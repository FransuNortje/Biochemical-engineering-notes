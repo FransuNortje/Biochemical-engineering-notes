{
 "cells": [
  {
   "cell_type": "markdown",
   "metadata": {},
   "source": [
    "## Tutorial 5.3 - Navigating concentrations and rates in Python\n",
    "\n",
    "Before we go on to Chapter 6 we want to ensure that we have mastered the basic skills of playing with fermenter concentrations and rates in Jupyter notebooks. The purpuse of this tutorial is to improve your Python skills in this regard. So today we are more concerned about getting the right numbers than interpreting the numbers. Interpretation will follow later when  your notebook skillset is better developed. \n",
    "\n",
    "Let's take the metabolic network from semester test 1. \n",
    "\n",
    "<img src=\"mapst1.png\" width=\"400\" />"
   ]
  },
  {
   "cell_type": "markdown",
   "metadata": {},
   "source": [
    "The correct matrix (not the hidden one like in the semester test) can be obtained here:  [matrixst1.xlsx](https://nbviewer.jupyter.org/github/willienicol/Biochemical-engineering-notes/tree/master/Tutorials/Tut%205.3/matrixst1.xlsx). Please note that the Excel file requires some modification before it can be imported. Also the matrix still requires some specification lines. Best to add the specifications in the notebook itself. \n",
    "\n",
    "a) Import the matrix, neglect glycerol formation and assume that $\\mu=0.18$. Determine the biomass based rate of malic acid production $r_M$.Note that all additional physiological parameters are given in the supplied matrix (don't forget the $\\theta$ spec) [$r_M=0.155$].\n",
    "\n",
    "Please note that the rates determined from the _linalg_ solution are in matrix format (eventhough there is just one column). To obtain elements from the rate matrix the row and column number must be supplied.\n",
    "\n",
    "We will be using the above matrix directly in the response function. Rename the matrix as S1. We will assume for now that oxygen supply is in excess. All parameters are given. Note that $\\mu$ is not a constant like in Tut 8. Below the response function:"
   ]
  },
  {
   "cell_type": "code",
   "execution_count": 1,
   "metadata": {},
   "outputs": [],
   "source": [
    "mumax, thetamax, a, b =0.18,0.1, 0.004, 0.1\n",
    "\n",
    "\n",
    "def response_fun(C):\n",
    "    \n",
    "    Cx, Cs, Cm = C[0],C[1],C[2]  \n",
    "    \n",
    "    mu=mumax*Cs/(a + Cs)*(1+Cm/b)**(-1)  # Note the mu dependence on Cs and Cm 🧐\n",
    "    theta=thetamax*Cs/(a + Cs)\n",
    "    \n",
    "    K = numpy.matrix([0, 0, 0,0,0,0, theta, mu,0]).T\n",
    "    r = numpy.linalg.solve(S1, K) \n",
    "        \n",
    "    \n",
    "    return [r[1,0],   # important to see the order of the rates (X,S,M)\n",
    "           -r[0,0],   # glucose, note the negative since the flux model calculated (-rs)\n",
    "            r[7,0]]   # malic acid   "
   ]
  },
  {
   "cell_type": "markdown",
   "metadata": {},
   "source": [
    "b) Plot $C_X,C_S,C_M$ upto 80 hours, using a similar procedure to tut8. Allow for a smooth plot. Initail concentrations given as $C_X =0.01 \\frac{cmol}{L}$, $C_S=90 \\frac{g}{L}$ and zero malic acid.\n",
    "\n",
    "\n",
    "c) Now complete the table below:\n",
    "\n",
    "<img src=\"table_t8.png\" width=\"500\" />"
   ]
  },
  {
   "cell_type": "markdown",
   "metadata": {},
   "source": [
    "Compare your $6 \\times 10$ table with the one given in [Table1.xlsx](https://nbviewer.jupyter.org/github/willienicol/Biochemical-engineering-notes/tree/master/Tutorials/Tut%205.3/Table1.xlsx)\n",
    "\n",
    "d) Plot the 3 concentration profiles against time by using a tspan of at least 200 elements. Determine the slopes of all 3 profiles at 15 and 75 hours. Use a piece of paper or a ruler against your laptop screen and determine the $\\frac{\\Delta C}{\\Delta t}$ values. **The estimation must be a visual estimation.**\n",
    "\n",
    "<img src=\"tangents.png\" width=\"500\" />\n",
    "\n",
    "e) Compare the answers in (d) to the $r_{i}^{V}$ values in your table. What do you see?\n",
    "\n",
    "f) Determine the 3 concentrations at 36 hours. Use the following command before plotting the profiles and read the concentrations directly off the plot. Note the coordinates of the curser are indicated on the plot.\n"
   ]
  },
  {
   "cell_type": "code",
   "execution_count": 4,
   "metadata": {
    "collapsed": true
   },
   "outputs": [],
   "source": [
    "%matplotlib notebook "
   ]
  },
  {
   "cell_type": "markdown",
   "metadata": {},
   "source": [
    "g) Compare your visual inspected answers to the correct answers by using a tspan that contains 36 hours. For exam purpuses you should be in the range: $0.97<\\frac{C_{read}}{C_{correct}}<1.03$\n",
    "\n"
   ]
  },
  {
   "cell_type": "markdown",
   "metadata": {},
   "source": [
    "h) Obtain the values of $r_X,r_S,r_M$ at 36 hours. [0.0369, -0.1300,  0.0592]\n",
    "\n",
    "i) What will $r_X,r_S,r_M$ be at 36 hours if $[C_X,C_S]$ from the obtained coordinate in (g) is used with a $C_M$ value of 1.137 $\\frac{cmol}{L}$.  **Perform calculation without integration!** [0.0145, -0.0825, 0.04415]\n",
    "\n",
    "<img src=\"notonprofile.png\" width=\"400\" />"
   ]
  },
  {
   "cell_type": "code",
   "execution_count": null,
   "metadata": {
    "collapsed": true
   },
   "outputs": [],
   "source": []
  }
 ],
 "metadata": {
  "kernelspec": {
   "display_name": "Python 3",
   "language": "python",
   "name": "python3"
  },
  "language_info": {
   "codemirror_mode": {
    "name": "ipython",
    "version": 3
   },
   "file_extension": ".py",
   "mimetype": "text/x-python",
   "name": "python",
   "nbconvert_exporter": "python",
   "pygments_lexer": "ipython3",
   "version": "3.7.3"
  }
 },
 "nbformat": 4,
 "nbformat_minor": 2
}
