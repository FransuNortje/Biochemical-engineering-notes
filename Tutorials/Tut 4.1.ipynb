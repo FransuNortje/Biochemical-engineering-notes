{
 "cells": [
  {
   "cell_type": "markdown",
   "metadata": {},
   "source": [
    "## Tut 4.1 The anabolism\n",
    "\n",
    "### Anabolic half reaction:\n",
    "\n",
    "<img src=\"432.png\" width=\"850\" />\n",
    "\n",
    "$$ Y_{XS} CH_2O+Y_{XN} NH_3 + \\gamma ATP \\to X + \\alpha CO_2 + \\beta NADH + Y_{XW} H_2 O $$\n",
    "\n",
    "\n",
    "a) Take the standard biomass formula and determine the NADH production/consumption if the yield of $CO_2$ is 0.15 $ \\frac{mol}{cmol X}$ [0.2 $\\frac{mol}{cmol X}$]\n",
    "\n",
    "b) If the yield of of NADH on glucose is 0.08 $\\frac{mol}{cmol S}$, what is the yield of $CO_2$ on biomass? [0.09375 $\\frac{mol}{cmol X}$]\n",
    "\n",
    "c) If zero $CO_2$ is formed, what is the NADH requirements for making biomass? [-0.1 $\\frac{mol}{cmol X}$]\n",
    "\n",
    "d) If the biomass formula was $CH_{1.8}O_{x}N_{0.2}$, what should x be to have an overall anabolic equation that results in zero $CO_2$ and NADH? "
   ]
  },
  {
   "cell_type": "markdown",
   "metadata": {},
   "source": [
    "<img src=\"anacata.png\" width=\"650\" />\n",
    "\n",
    "e) For the rest of the example we are going to couple the anabolic half reaction, with a catabolic half reaction where respiration occurs. There will thus be a glucose flux to biomass and to respiration. Note that all ATP produced must be consumed and that all NADH produced must be oxidised. Take the standard biomass formula where the the yield of $CO_2$ on biomass (for the anabolic half reaction) is 0.15 $\\frac{mol}{cmol X}$. Assume that the ATP required per cmol of biomass is 2.5 $\\frac{mol}{cmol X}$. Assume a $(P/O)_{NADH}$ and $(P/O)_{FADH}$ of 1.5. What fraction of the glucose is used for respiration [0.343]\n",
    "\n",
    "f) What is the oxygen consumption in (e)? Should it be the same as the cmol carbon flux to respiration and why? [0.4 $\\frac{mol \\,O_2}{mol \\, S}$]\n",
    "\n",
    "g) Determine the total amount of CO2 formed from the anabolism and catabolism. [0.428 $\\frac{mol \\, CO_2}{cmol \\,S}$]\n",
    "\n",
    "h) Perform an overall mass balance to confirm the calculation in (g)."
   ]
  },
  {
   "cell_type": "code",
   "execution_count": null,
   "metadata": {
    "collapsed": true
   },
   "outputs": [],
   "source": []
  }
 ],
 "metadata": {
  "kernelspec": {
   "display_name": "Python 3",
   "language": "python",
   "name": "python3"
  },
  "language_info": {
   "codemirror_mode": {
    "name": "ipython",
    "version": 3
   },
   "file_extension": ".py",
   "mimetype": "text/x-python",
   "name": "python",
   "nbconvert_exporter": "python",
   "pygments_lexer": "ipython3",
   "version": "3.7.3"
  }
 },
 "nbformat": 4,
 "nbformat_minor": 2
}
