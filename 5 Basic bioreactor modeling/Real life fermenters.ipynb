{
 "cells": [
  {
   "cell_type": "markdown",
   "metadata": {},
   "source": [
    "## What does a fermenter (bioreactor) look like?\n",
    "\n",
    "\n",
    "The rest of the course is about modelling fermenters. Before jumping into the math we need to know what it looks like. Industrial scale fermenters are basically just stainless steel vessels with lots of pipes going into and out of the vessel. Have a look at these pictures:\n",
    "\n",
    "<img src=\"fermind.png\" width=\"800\" />\n",
    "\n",
    "\n",
    "Fermenters can be massive. Some can hold as much as 400m$^3$ of liquid. These ‘containers’ can be longer than 10m and wider than 7m. For these big fermenters the top part will be accessed via a separate platform (see picture above). You may also wonder what it looks like on the inside. Have a look at these pictures.\n",
    "\n",
    "<img src=\"ferminside.png\" width=\"800\" />\n",
    "\n",
    "The impeller shaft and cooling coils are prominent. The Rushton impeller type (middle picture) is often employed for agitation. The vessel will also be outfitted with an air sparger at the bottom (if the fermentation requires air).\n",
    "\n",
    "<img src=\"fermsmall.png\" width=\"800\" />\n",
    "\n",
    "Pilot-scale and bench-scale fermenters are much smaller. Most fermentation research is performed in table top fermenters ranging from 0.5 to 10 liters. For these applications glass is used instead of stainless steel. The pictures above creates the image of a clear liquid in the fermenter. This is only because the pictures were obtained from bench-top fermenter advertisements. For most cases the fermentation liquid (broth) will be non-transparent, thick, soupy and likely very smelly.\n",
    "\n",
    "<img src=\"fermsoup.jpg\" width=\"200\" />\n",
    "\n",
    "\n",
    "The following diagrams highlights the important internals of a bioreactor:\n",
    "\n",
    "<img src=\"fermdiagram.png\" width=\"650\" />\n",
    "\n",
    "Note the important aspects:\n",
    "\n",
    "*\tAgitation equipment\n",
    "*\tTemperature, pH and dissolved oxygen sensors\n",
    "*\tGas sparger (for small bubbles in the liquid)\n",
    "*\tVarious ports for in or outflow of liquids/gasses\n",
    "*\tTemperature control jacket\n",
    "*\tSteam connectors for sterilization\n",
    "*   Off-gas analysis equipment (not shown above)\n",
    "\n",
    "All vessels, no matter the size, needs to be heat treated (sterilisation) prior to use. This is to kill all unwanted microbes beforehand. The initial liquid mixture that contains the dedicated microbe is referred to as the inoculum. The volume of the inoculum is typically small compared to that of the fermenter and growth will be required to fill the fermenter with a sufficient amount of the wanted microbe. \n"
   ]
  },
  {
   "cell_type": "markdown",
   "metadata": {
    "collapsed": true
   },
   "source": [
    "[Back to Contents page](https://nbviewer.jupyter.org/github/willienicol/Biochemical-engineering-notes/blob/master/List%20of%20contents.ipynb)"
   ]
  },
  {
   "cell_type": "code",
   "execution_count": null,
   "metadata": {
    "collapsed": true
   },
   "outputs": [],
   "source": []
  }
 ],
 "metadata": {
  "kernelspec": {
   "display_name": "Python 3",
   "language": "python",
   "name": "python3"
  },
  "language_info": {
   "codemirror_mode": {
    "name": "ipython",
    "version": 3
   },
   "file_extension": ".py",
   "mimetype": "text/x-python",
   "name": "python",
   "nbconvert_exporter": "python",
   "pygments_lexer": "ipython3",
   "version": "3.7.3"
  }
 },
 "nbformat": 4,
 "nbformat_minor": 1
}
